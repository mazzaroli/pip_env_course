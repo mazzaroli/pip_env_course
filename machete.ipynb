{
 "cells": [
  {
   "cell_type": "markdown",
   "metadata": {},
   "source": [
    "## Machete linux\n",
    "<img src='https://pbs.twimg.com/media/Fc_vCE-XwAAlwKZ?format=jpg&name=4096x4096' width=400>"
   ]
  },
  {
   "cell_type": "markdown",
   "metadata": {},
   "source": [
    "## **Instalación en Windows (WSL) y Linux**\n",
    "\n",
    "**Instalación**\n",
    "\n",
    "- apt update\n",
    "\n",
    "- sudo apt update\n",
    "\n",
    "- sudo apt -y upgrade\n",
    "\n",
    "**Verificar Instalación de python**\n",
    "- python3 -V\n",
    "\n",
    "**Instalación de gestor de paquetes de dependencias**\n",
    "\n",
    "- sudo apt insstall -y python3-pip\n",
    "\n",
    "**Verificar Instalación del gestor**\n",
    "- pip3 -V\n",
    "\n",
    "**Dependencias en entorno profesional**\n",
    "\n",
    "- apt install -y build-essential libssl-dev libffi-dev python3-dev"
   ]
  },
  {
   "cell_type": "markdown",
   "metadata": {},
   "source": [
    "## **Python con Git y GitHub**\n",
    "\n",
    "- ll\n",
    "- git init\n",
    "- ll\n",
    "- git remote add origin (enlace gitgub)\n",
    "- git remote -v\n",
    "- git add *\n",
    "- git commit -m “Mi primer archivo”\n",
    "- git push origin master\n",
    "\n",
    "Refrescar pagina y revisar\n",
    "\n",
    "Despues de tener los dos archivos .gitignore y README.md_ agregarlo al gitgub, revisar que esten los tres archivos cargados."
   ]
  },
  {
   "cell_type": "markdown",
   "metadata": {},
   "source": [
    "## Creador de gitignore\n",
    "\n",
    "https://www.toptal.com/developers/gitignore/\n",
    "\n",
    "- S.O (windows, mac, linux)\n",
    "- lenguajes de programacion que se usen"
   ]
  },
  {
   "cell_type": "markdown",
   "metadata": {},
   "source": [
    "## ¿Qué es pip?\n",
    "\n",
    "Enlace a pypi\n",
    "https://pypi.org/\n",
    "\n",
    "Correr en la terminal los siguientes comandos\n",
    "\n",
    "- pip3 -V\n",
    "- ll\n",
    "- mkdir charts\n",
    "- cd charts/\n",
    "\n",
    "Estando en la carpeta vamos a instalar un paquete\n",
    "\n",
    "- pip3 install matplotlib\n",
    "\n",
    "Ver librerias instaladas\n",
    "\n",
    "- pip3 freeze"
   ]
  },
  {
   "cell_type": "markdown",
   "metadata": {},
   "source": [
    "## Usando entornos virtuales en Python\n",
    "\n",
    "Verificar donde esta python y pip\n",
    "\n",
    "- which python3\n",
    "- which pip3\n",
    "\n",
    "Si estas en linus o wsl debes instalar\n",
    "\n",
    "- sudo apt install -y python3-venv\n",
    "\n",
    "Poner cada proyecto en su propio ambiente, entrar en cada carpeta.\n",
    "\n",
    "- python3 -m venv env\n",
    "\n",
    "Activar el ambiente\n",
    "\n",
    "- source env/bin/activate\n",
    "\n",
    "Salir del ambiente virtual\n",
    "\n",
    "- deactivate\n",
    "\n",
    "Podemos instalar las librerias necesarias en el ambiente virtual como por ejemplo\n",
    "\n",
    "- pip3 install matplotlib==3.5.0\n",
    "\n",
    "Verificar las instalaciones\n",
    "\n",
    "- pip3 freeze"
   ]
  },
  {
   "cell_type": "markdown",
   "metadata": {},
   "source": [
    "## requirements.txt\n",
    "\n",
    "Generar el archivo con el siguiente comando\n",
    "- pip3 freeze > requirements.txt\n",
    "\n",
    "Revisar lo que hay dentro del archivo\n",
    "- cat requirements.txt\n",
    "\n",
    "Instalar las dependencias necesarias para contribuir más rápido en proyectos\n",
    "- pip3 install -r requirements.txt"
   ]
  },
  {
   "cell_type": "markdown",
   "metadata": {},
   "source": [
    "## Solicitudes HTTP con Requests\n",
    "\n",
    "\n",
    "Crear un entorno\n",
    "\n",
    "- python3 -m venv env\n",
    "\n",
    "Activar un entorno virtual\n",
    "\n",
    "- source env/bin/activate\n",
    "\n",
    "Verificar que estemos dentro del entorno virtual\n",
    "\n",
    "- which python3\n",
    "\n",
    "Instalar la dependencia dentro del entorno virtual\n",
    "\n",
    "- pip3 install requests\n",
    "\n",
    "Verificar la instalacion\n",
    "\n",
    "- pip3 freeze\n",
    "\n",
    "Crear el archivo para que cualquier persona pueda desplegar el proyecto\n",
    "\n",
    "- pip freeze > requeriments.txt\n"
   ]
  },
  {
   "cell_type": "markdown",
   "metadata": {},
   "source": [
    "# Docker\n",
    "\n",
    "**Dockerfile**\n",
    "```\n",
    "FROM python:3.8\n",
    "\n",
    "WORKDIR /app\n",
    "COPY requirements.txt /app/requirements.txt\n",
    "\n",
    "RUN pip install --no-cache-dir --upgrade -r /app/requirements.txt\n",
    "\n",
    "COPY . /app\n",
    "\n",
    "CMD bash -c 'while true; do sleep 1; done'\n",
    "```\n",
    "\n",
    "**docker-compose.yml**\n",
    "```\n",
    "services:\n",
    "  app-csv:\n",
    "    build:\n",
    "      context: .\n",
    "      dockerfile: Dockerfile\n",
    "```\n",
    "\n",
    "**construir aplicacion**\n",
    "\n",
    "- docker-compose build\n",
    "\n",
    "**Levantar aplicacion o actualziar tras cada cambio**\n",
    "\n",
    "- docker-compose up -d\n",
    "\n",
    "**Listar contenedores**\n",
    "\n",
    "- docker-compose ps\n",
    "\n",
    "**Ejecutar aplicacion con terminal bash**\n",
    "\n",
    "- docket-compose excep app-csv bash\n",
    "\n",
    "**bajar la apliacion**\n",
    "\n",
    "- docker-compose down"
   ]
  },
  {
   "cell_type": "markdown",
   "metadata": {},
   "source": [
    "# Docker para el día a día: automatizando la vinculación de archivos\n",
    "\n",
    "Live loading editor y app docker\n",
    "\n",
    "```\n",
    "services:\n",
    "  app-csv:\n",
    "    build:\n",
    "      context: .\n",
    "      dockerfile: Dockerfile\n",
    "    volumes:   👈\n",
    "      - .:/app 👈\n",
    "```"
   ]
  }
 ],
 "metadata": {
  "kernelspec": {
   "display_name": "Python 3.8.10 64-bit",
   "language": "python",
   "name": "python3"
  },
  "language_info": {
   "codemirror_mode": {
    "name": "ipython",
    "version": 3
   },
   "file_extension": ".py",
   "mimetype": "text/x-python",
   "name": "python",
   "nbconvert_exporter": "python",
   "pygments_lexer": "ipython3",
   "version": "3.8.10"
  },
  "orig_nbformat": 4,
  "vscode": {
   "interpreter": {
    "hash": "916dbcbb3f70747c44a77c7bcd40155683ae19c65e1c03b4aa3499c5328201f1"
   }
  }
 },
 "nbformat": 4,
 "nbformat_minor": 2
}
